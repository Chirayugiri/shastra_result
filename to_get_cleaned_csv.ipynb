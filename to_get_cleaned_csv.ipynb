{
 "cells": [
  {
   "cell_type": "code",
   "execution_count": null,
   "id": "initial_id",
   "metadata": {
    "collapsed": true
   },
   "outputs": [],
   "source": [
    "import pandas as pd\n",
    "import os\n",
    "\n",
    "# Load the CSV file\n",
    "file_path = \"test_2026_csv.csv\"  # Change to your file path\n",
    "df = pd.read_csv(file_path)\n",
    "\n",
    "# Remove '@' from the HackerRank ID column\n",
    "df[\"HackerRank ID\"] = df[\"HackerRank ID\"].astype(str).str.lstrip(\"@\")\n",
    "\n",
    "# Save the cleaned file\n",
    "cleaned_file_path = \"cleaned_test_2026_csv.csv\"\n",
    "df.to_csv(cleaned_file_path, index=False)\n",
    "\n",
    "# Get and print the absolute path of the saved file\n",
    "absolute_path = os.path.abspath(cleaned_file_path)\n",
    "print(f\"Cleaned file saved at: {absolute_path}\")\n"
   ]
  }
 ],
 "metadata": {
  "kernelspec": {
   "display_name": "Python 3",
   "language": "python",
   "name": "python3"
  },
  "language_info": {
   "codemirror_mode": {
    "name": "ipython",
    "version": 2
   },
   "file_extension": ".py",
   "mimetype": "text/x-python",
   "name": "python",
   "nbconvert_exporter": "python",
   "pygments_lexer": "ipython2",
   "version": "2.7.6"
  }
 },
 "nbformat": 4,
 "nbformat_minor": 5
}
