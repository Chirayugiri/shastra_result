{
 "cells": [
  {
   "cell_type": "code",
   "execution_count": 43,
   "id": "initial_id",
   "metadata": {
    "collapsed": true,
    "ExecuteTime": {
     "end_time": "2025-03-19T14:11:39.006020600Z",
     "start_time": "2025-03-19T14:11:39.000783300Z"
    }
   },
   "outputs": [],
   "source": [
    "import pandas as pd\n",
    "import os"
   ]
  },
  {
   "cell_type": "code",
   "outputs": [],
   "source": [
    "# Load the CSV file\n",
    "file_path = \"C:/Users/Rohan/Downloads/Batch_2026_Result - Batch 5 .csv\" # Change to your file path\n",
    "df = pd.read_csv(file_path)"
   ],
   "metadata": {
    "collapsed": false,
    "ExecuteTime": {
     "end_time": "2025-03-19T14:11:39.607214400Z",
     "start_time": "2025-03-19T14:11:39.596674100Z"
    }
   },
   "id": "f928269032cea1b",
   "execution_count": 44
  },
  {
   "cell_type": "code",
   "outputs": [],
   "source": [
    "# Remove '@' from the HackerRank ID column\n",
    "df[\"HackerRank ID\"] = df[\"HackerRank ID\"].astype(str).str.lstrip(\"@\")"
   ],
   "metadata": {
    "collapsed": false,
    "ExecuteTime": {
     "end_time": "2025-03-19T14:11:40.213903Z",
     "start_time": "2025-03-19T14:11:40.206598800Z"
    }
   },
   "id": "928aa35ef96fdf2d",
   "execution_count": 45
  },
  {
   "cell_type": "code",
   "outputs": [],
   "source": [
    "# Save the cleaned file\n",
    "cleaned_file_path = \"cleaned_test_2026_csv.csv\"\n",
    "df.to_csv(cleaned_file_path, index=False)"
   ],
   "metadata": {
    "collapsed": false,
    "ExecuteTime": {
     "end_time": "2025-03-19T14:11:40.819255400Z",
     "start_time": "2025-03-19T14:11:40.812279700Z"
    }
   },
   "id": "517f8ed190a7567a",
   "execution_count": 46
  },
  {
   "cell_type": "code",
   "outputs": [
    {
     "name": "stdout",
     "output_type": "stream",
     "text": [
      "Cleaned file saved at: C:\\Users\\Rohan\\PycharmProjects\\pythonProject3\\cleaned_test_2026_csv.csv\n"
     ]
    }
   ],
   "source": [
    "# Get and print the absolute path of the saved file\n",
    "absolute_path = os.path.abspath(cleaned_file_path)\n",
    "print(f\"Cleaned file saved at: {absolute_path}\")"
   ],
   "metadata": {
    "collapsed": false,
    "ExecuteTime": {
     "end_time": "2025-03-19T14:11:41.312330700Z",
     "start_time": "2025-03-19T14:11:41.309904600Z"
    }
   },
   "id": "8a8e34e1024bb2d9",
   "execution_count": 47
  },
  {
   "cell_type": "code",
   "outputs": [],
   "source": [],
   "metadata": {
    "collapsed": false,
    "ExecuteTime": {
     "end_time": "2025-03-19T14:11:41.806598700Z",
     "start_time": "2025-03-19T14:11:41.805082300Z"
    }
   },
   "id": "d4c41e3e157929b3",
   "execution_count": 47
  },
  {
   "cell_type": "code",
   "outputs": [],
   "source": [],
   "metadata": {
    "collapsed": false
   },
   "id": "d1d0047b50c56889"
  }
 ],
 "metadata": {
  "kernelspec": {
   "display_name": "Python 3",
   "language": "python",
   "name": "python3"
  },
  "language_info": {
   "codemirror_mode": {
    "name": "ipython",
    "version": 2
   },
   "file_extension": ".py",
   "mimetype": "text/x-python",
   "name": "python",
   "nbconvert_exporter": "python",
   "pygments_lexer": "ipython2",
   "version": "2.7.6"
  }
 },
 "nbformat": 4,
 "nbformat_minor": 5
}
