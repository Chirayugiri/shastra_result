{
 "cells": [
  {
   "cell_type": "code",
   "execution_count": 1,
   "id": "initial_id",
   "metadata": {
    "collapsed": true,
    "ExecuteTime": {
     "end_time": "2025-03-16T10:19:59.549565200Z",
     "start_time": "2025-03-16T10:19:57.368751700Z"
    }
   },
   "outputs": [],
   "source": [
    "import pandas as pd\n",
    "import os"
   ]
  },
  {
   "cell_type": "code",
   "outputs": [],
   "source": [
    "# Load the CSV file\n",
    "file_path = \"C:/Users/Rohan/Downloads/Deloitt Practice Tests - Sheet1 (1).csv\" # Change to your file path\n",
    "df = pd.read_csv(file_path)"
   ],
   "metadata": {
    "collapsed": false,
    "ExecuteTime": {
     "end_time": "2025-03-16T16:19:28.760912900Z",
     "start_time": "2025-03-16T16:19:28.453566100Z"
    }
   },
   "id": "f928269032cea1b",
   "execution_count": 6
  },
  {
   "cell_type": "code",
   "outputs": [],
   "source": [
    "# Remove '@' from the HackerRank ID column\n",
    "df[\"HackerRank ID\"] = df[\"HackerRank ID\"].astype(str).str.lstrip(\"@\")"
   ],
   "metadata": {
    "collapsed": false,
    "ExecuteTime": {
     "end_time": "2025-03-16T16:19:30.030017300Z",
     "start_time": "2025-03-16T16:19:29.916223Z"
    }
   },
   "id": "928aa35ef96fdf2d",
   "execution_count": 7
  },
  {
   "cell_type": "code",
   "outputs": [],
   "source": [
    "# Save the cleaned file\n",
    "cleaned_file_path = \"cleaned_test_2026_csv.csv\"\n",
    "df.to_csv(cleaned_file_path, index=False)"
   ],
   "metadata": {
    "collapsed": false,
    "ExecuteTime": {
     "end_time": "2025-03-16T16:19:42.864866500Z",
     "start_time": "2025-03-16T16:19:42.855223600Z"
    }
   },
   "id": "517f8ed190a7567a",
   "execution_count": 9
  },
  {
   "cell_type": "code",
   "outputs": [
    {
     "name": "stdout",
     "output_type": "stream",
     "text": [
      "Cleaned file saved at: C:\\Users\\Rohan\\PycharmProjects\\pythonProject3\\cleaned_test_2026_csv.csv\n"
     ]
    }
   ],
   "source": [
    "# Get and print the absolute path of the saved file\n",
    "absolute_path = os.path.abspath(cleaned_file_path)\n",
    "print(f\"Cleaned file saved at: {absolute_path}\")"
   ],
   "metadata": {
    "collapsed": false,
    "ExecuteTime": {
     "end_time": "2025-03-16T16:19:44.321029500Z",
     "start_time": "2025-03-16T16:19:44.313973600Z"
    }
   },
   "id": "8a8e34e1024bb2d9",
   "execution_count": 10
  },
  {
   "cell_type": "code",
   "outputs": [],
   "source": [],
   "metadata": {
    "collapsed": false
   },
   "id": "d4c41e3e157929b3"
  }
 ],
 "metadata": {
  "kernelspec": {
   "display_name": "Python 3",
   "language": "python",
   "name": "python3"
  },
  "language_info": {
   "codemirror_mode": {
    "name": "ipython",
    "version": 2
   },
   "file_extension": ".py",
   "mimetype": "text/x-python",
   "name": "python",
   "nbconvert_exporter": "python",
   "pygments_lexer": "ipython2",
   "version": "2.7.6"
  }
 },
 "nbformat": 4,
 "nbformat_minor": 5
}
