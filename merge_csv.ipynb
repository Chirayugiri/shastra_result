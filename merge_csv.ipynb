{
 "cells": [
  {
   "cell_type": "code",
   "execution_count": 52,
   "id": "initial_id",
   "metadata": {
    "collapsed": true,
    "ExecuteTime": {
     "end_time": "2025-03-19T14:11:49.444751900Z",
     "start_time": "2025-03-19T14:11:49.439509Z"
    }
   },
   "outputs": [],
   "source": [
    "import pandas as pd\n",
    "import os"
   ]
  },
  {
   "cell_type": "code",
   "outputs": [],
   "source": [
    "# Load both CSV files\n",
    "scraped_file_path = \"C:/Users/Rohan/PycharmProjects/pythonProject3/hackerrank_leaderboard_scrap.csv\"  # First CSV (scraped results)\n",
    "cleaned_file_path = \"C:/Users/Rohan/PycharmProjects/pythonProject3/cleaned_test_2026_csv.csv\"  # Second CSV (cleaned IDs)"
   ],
   "metadata": {
    "collapsed": false,
    "ExecuteTime": {
     "end_time": "2025-03-19T14:11:50.048295800Z",
     "start_time": "2025-03-19T14:11:50.044832800Z"
    }
   },
   "id": "c6b376ae6b52bf56",
   "execution_count": 53
  },
  {
   "cell_type": "code",
   "outputs": [],
   "source": [
    "scraped_df = pd.read_csv(scraped_file_path)\n",
    "cleaned_df = pd.read_csv(cleaned_file_path)"
   ],
   "metadata": {
    "collapsed": false,
    "ExecuteTime": {
     "end_time": "2025-03-19T14:11:50.675134900Z",
     "start_time": "2025-03-19T14:11:50.665961400Z"
    }
   },
   "id": "a81e3b34115b59ab",
   "execution_count": 54
  },
  {
   "cell_type": "code",
   "outputs": [],
   "source": [
    "# Merge data on HackerRank ID\n",
    "merged_df = cleaned_df.merge(scraped_df, on=\"HackerRank ID\", how=\"left\")"
   ],
   "metadata": {
    "collapsed": false,
    "ExecuteTime": {
     "end_time": "2025-03-19T14:11:51.231072Z",
     "start_time": "2025-03-19T14:11:51.223047500Z"
    }
   },
   "id": "8d83ebce4a6425aa",
   "execution_count": 55
  },
  {
   "cell_type": "code",
   "outputs": [],
   "source": [
    "# Save the final results\n",
    "final_file_path = \"final_shastra_results.csv\"\n",
    "merged_df.to_csv(final_file_path, index=False)\n"
   ],
   "metadata": {
    "collapsed": false,
    "ExecuteTime": {
     "end_time": "2025-03-19T14:11:51.897928400Z",
     "start_time": "2025-03-19T14:11:51.890728200Z"
    }
   },
   "id": "860eb1d73492dc64",
   "execution_count": 56
  },
  {
   "cell_type": "code",
   "outputs": [
    {
     "name": "stdout",
     "output_type": "stream",
     "text": [
      "Final results saved at: C:\\Users\\Rohan\\PycharmProjects\\pythonProject3\\final_shastra_results.csv\n"
     ]
    }
   ],
   "source": [
    "# Get and print the absolute path of the saved file\n",
    "absolute_path = os.path.abspath(final_file_path) \n",
    "print(f\"Final results saved at: {absolute_path}\")"
   ],
   "metadata": {
    "collapsed": false,
    "ExecuteTime": {
     "end_time": "2025-03-19T14:11:52.730651700Z",
     "start_time": "2025-03-19T14:11:52.727136900Z"
    }
   },
   "id": "a9d7b73da1468f2e",
   "execution_count": 57
  },
  {
   "cell_type": "code",
   "outputs": [],
   "source": [],
   "metadata": {
    "collapsed": false,
    "ExecuteTime": {
     "end_time": "2025-03-19T14:08:55.252831200Z",
     "start_time": "2025-03-19T14:08:55.249325100Z"
    }
   },
   "id": "3116b089a6455fe1",
   "execution_count": 51
  },
  {
   "cell_type": "code",
   "outputs": [],
   "source": [],
   "metadata": {
    "collapsed": false,
    "ExecuteTime": {
     "end_time": "2025-03-19T14:08:49.389029Z",
     "start_time": "2025-03-19T14:08:49.388002900Z"
    }
   },
   "id": "f879fada79dca49e",
   "execution_count": 45
  },
  {
   "cell_type": "code",
   "outputs": [],
   "source": [],
   "metadata": {
    "collapsed": false,
    "ExecuteTime": {
     "end_time": "2025-03-19T14:08:49.624434200Z",
     "start_time": "2025-03-19T14:08:49.620139300Z"
    }
   },
   "id": "9e8dae0456a0864c",
   "execution_count": 45
  },
  {
   "cell_type": "code",
   "outputs": [],
   "source": [],
   "metadata": {
    "collapsed": false
   },
   "id": "71f904d94bd6649b"
  }
 ],
 "metadata": {
  "kernelspec": {
   "display_name": "Python 3",
   "language": "python",
   "name": "python3"
  },
  "language_info": {
   "codemirror_mode": {
    "name": "ipython",
    "version": 2
   },
   "file_extension": ".py",
   "mimetype": "text/x-python",
   "name": "python",
   "nbconvert_exporter": "python",
   "pygments_lexer": "ipython2",
   "version": "2.7.6"
  }
 },
 "nbformat": 4,
 "nbformat_minor": 5
}
