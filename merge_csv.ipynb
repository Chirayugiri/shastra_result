{
 "cells": [
  {
   "cell_type": "code",
   "execution_count": null,
   "id": "initial_id",
   "metadata": {
    "collapsed": true
   },
   "outputs": [],
   "source": [
    "import pandas as pd\n",
    "import os"
   ]
  },
  {
   "cell_type": "code",
   "outputs": [],
   "source": [
    "# Load both CSV files\n",
    "scraped_file_path = \"shastra_hackerrank_results.csv\"  # First CSV (scraped results)\n",
    "cleaned_file_path = \"cleaned_shastra_results.csv\"  # Second CSV (cleaned IDs)"
   ],
   "metadata": {
    "collapsed": false
   },
   "id": "c6b376ae6b52bf56"
  },
  {
   "cell_type": "code",
   "outputs": [],
   "source": [
    "scraped_df = pd.read_csv(scraped_file_path)\n",
    "cleaned_df = pd.read_csv(cleaned_file_path)"
   ],
   "metadata": {
    "collapsed": false
   },
   "id": "a81e3b34115b59ab"
  },
  {
   "cell_type": "code",
   "outputs": [],
   "source": [
    "# Merge data on HackerRank ID\n",
    "merged_df = cleaned_df.merge(scraped_df, on=\"HackerRank ID\", how=\"left\")"
   ],
   "metadata": {
    "collapsed": false
   },
   "id": "8d83ebce4a6425aa"
  },
  {
   "cell_type": "code",
   "outputs": [],
   "source": [
    "# Save the final results\n",
    "final_file_path = \"final_shastra_results.csv\"\n",
    "merged_df.to_csv(final_file_path, index=False)\n"
   ],
   "metadata": {
    "collapsed": false
   },
   "id": "860eb1d73492dc64"
  },
  {
   "cell_type": "code",
   "outputs": [],
   "source": [
    "# Get and print the absolute path of the saved file\n",
    "absolute_path = os.path.abspath(final_file_path) \n",
    "print(f\"Final results saved at: {absolute_path}\")"
   ],
   "metadata": {
    "collapsed": false
   },
   "id": "a9d7b73da1468f2e"
  }
 ],
 "metadata": {
  "kernelspec": {
   "display_name": "Python 3",
   "language": "python",
   "name": "python3"
  },
  "language_info": {
   "codemirror_mode": {
    "name": "ipython",
    "version": 2
   },
   "file_extension": ".py",
   "mimetype": "text/x-python",
   "name": "python",
   "nbconvert_exporter": "python",
   "pygments_lexer": "ipython2",
   "version": "2.7.6"
  }
 },
 "nbformat": 4,
 "nbformat_minor": 5
}
