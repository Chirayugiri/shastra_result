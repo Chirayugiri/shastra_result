{
 "cells": [
  {
   "cell_type": "code",
   "execution_count": 20,
   "id": "initial_id",
   "metadata": {
    "collapsed": true,
    "ExecuteTime": {
     "end_time": "2025-03-16T16:19:51.579238500Z",
     "start_time": "2025-03-16T16:19:51.572657900Z"
    }
   },
   "outputs": [],
   "source": [
    "import pandas as pd\n",
    "import os"
   ]
  },
  {
   "cell_type": "code",
   "outputs": [],
   "source": [
    "# Load both CSV files\n",
    "scraped_file_path = \"C:/Users/Rohan/PycharmProjects/pythonProject3/hackerrank_leaderboard4.csv\"  # First CSV (scraped results)\n",
    "cleaned_file_path = \"C:/Users/Rohan/PycharmProjects/pythonProject3/cleaned_test_2026_csv.csv\"  # Second CSV (cleaned IDs)"
   ],
   "metadata": {
    "collapsed": false,
    "ExecuteTime": {
     "end_time": "2025-03-16T16:19:53.170003300Z",
     "start_time": "2025-03-16T16:19:53.166470Z"
    }
   },
   "id": "c6b376ae6b52bf56",
   "execution_count": 21
  },
  {
   "cell_type": "code",
   "outputs": [],
   "source": [
    "scraped_df = pd.read_csv(scraped_file_path)\n",
    "cleaned_df = pd.read_csv(cleaned_file_path)"
   ],
   "metadata": {
    "collapsed": false,
    "ExecuteTime": {
     "end_time": "2025-03-16T16:19:54.918628600Z",
     "start_time": "2025-03-16T16:19:54.881782Z"
    }
   },
   "id": "a81e3b34115b59ab",
   "execution_count": 22
  },
  {
   "cell_type": "code",
   "outputs": [],
   "source": [
    "# Merge data on HackerRank ID\n",
    "merged_df = cleaned_df.merge(scraped_df, on=\"HackerRank ID\", how=\"left\")"
   ],
   "metadata": {
    "collapsed": false,
    "ExecuteTime": {
     "end_time": "2025-03-16T16:19:55.824297800Z",
     "start_time": "2025-03-16T16:19:55.814988900Z"
    }
   },
   "id": "8d83ebce4a6425aa",
   "execution_count": 23
  },
  {
   "cell_type": "code",
   "outputs": [],
   "source": [
    "# Save the final results\n",
    "final_file_path = \"final_shastra_results.csv\"\n",
    "merged_df.to_csv(final_file_path, index=False)\n"
   ],
   "metadata": {
    "collapsed": false,
    "ExecuteTime": {
     "end_time": "2025-03-16T16:20:04.456398700Z",
     "start_time": "2025-03-16T16:20:04.444811800Z"
    }
   },
   "id": "860eb1d73492dc64",
   "execution_count": 25
  },
  {
   "cell_type": "code",
   "outputs": [
    {
     "name": "stdout",
     "output_type": "stream",
     "text": [
      "Final results saved at: C:\\Users\\Rohan\\PycharmProjects\\pythonProject3\\final_shastra_results.csv\n"
     ]
    }
   ],
   "source": [
    "# Get and print the absolute path of the saved file\n",
    "absolute_path = os.path.abspath(final_file_path) \n",
    "print(f\"Final results saved at: {absolute_path}\")"
   ],
   "metadata": {
    "collapsed": false,
    "ExecuteTime": {
     "end_time": "2025-03-16T16:20:06.198720100Z",
     "start_time": "2025-03-16T16:20:06.196208500Z"
    }
   },
   "id": "a9d7b73da1468f2e",
   "execution_count": 26
  },
  {
   "cell_type": "code",
   "outputs": [],
   "source": [],
   "metadata": {
    "collapsed": false
   },
   "id": "3116b089a6455fe1"
  }
 ],
 "metadata": {
  "kernelspec": {
   "display_name": "Python 3",
   "language": "python",
   "name": "python3"
  },
  "language_info": {
   "codemirror_mode": {
    "name": "ipython",
    "version": 2
   },
   "file_extension": ".py",
   "mimetype": "text/x-python",
   "name": "python",
   "nbconvert_exporter": "python",
   "pygments_lexer": "ipython2",
   "version": "2.7.6"
  }
 },
 "nbformat": 4,
 "nbformat_minor": 5
}
