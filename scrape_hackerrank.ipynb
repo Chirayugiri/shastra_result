{
 "cells": [
  {
   "cell_type": "code",
   "execution_count": 15,
   "id": "initial_id",
   "metadata": {
    "collapsed": true,
    "ExecuteTime": {
     "end_time": "2025-03-16T16:17:18.939065Z",
     "start_time": "2025-03-16T16:17:18.928369900Z"
    }
   },
   "outputs": [],
   "source": [
    "import csv\n",
    "from selenium import webdriver\n",
    "from selenium.webdriver.common.by import By\n",
    "from selenium.webdriver.chrome.options import Options\n",
    "from selenium.webdriver.support.ui import WebDriverWait\n",
    "from selenium.webdriver.support import expected_conditions as EC"
   ]
  },
  {
   "cell_type": "code",
   "outputs": [],
   "source": [
    "# Configure Chrome options\n",
    "options = Options()\n",
    "options.add_argument(\"--start-maximized\")\n",
    "options.add_experimental_option(\"detach\", True)  # Prevents auto-close"
   ],
   "metadata": {
    "collapsed": false,
    "ExecuteTime": {
     "end_time": "2025-03-16T16:17:19.608639Z",
     "start_time": "2025-03-16T16:17:19.605127700Z"
    }
   },
   "id": "66eebff73b3fd71",
   "execution_count": 16
  },
  {
   "cell_type": "code",
   "outputs": [],
   "source": [
    "# Start Selenium\n",
    "driver = webdriver.Chrome(options=options)\n",
    "driver.get(\"https://www.hackerrank.com/placement-practice-contest-3\")"
   ],
   "metadata": {
    "collapsed": false,
    "ExecuteTime": {
     "end_time": "2025-03-16T16:17:53.902768900Z",
     "start_time": "2025-03-16T16:17:48.330671200Z"
    }
   },
   "id": "4fc380dc0fb56d33",
   "execution_count": 17
  },
  {
   "cell_type": "code",
   "outputs": [],
   "source": [
    "# Wait for leaderboard to load\n",
    "wait = WebDriverWait(driver, 10)\n",
    "rows = wait.until(EC.presence_of_all_elements_located((By.CSS_SELECTOR, \".leaderboard-list-view .row\")))"
   ],
   "metadata": {
    "collapsed": false,
    "ExecuteTime": {
     "end_time": "2025-03-16T16:18:27.536131400Z",
     "start_time": "2025-03-16T16:18:27.514099400Z"
    }
   },
   "id": "ec1001cd825e225e",
   "execution_count": 18
  },
  {
   "cell_type": "code",
   "outputs": [],
   "source": [
    "leaderboard = []\n",
    "for row in rows:\n",
    "    try:\n",
    "        username_element = row.find_element(By.CSS_SELECTOR, \".span-flex-4 a\")  # Updated selector\n",
    "        score_element = row.find_element(By.CSS_SELECTOR, \".span-flex-3\")  # Score selector\n",
    "\n",
    "        username = username_element.text.strip()\n",
    "        score = score_element.text.strip()\n",
    "\n",
    "        leaderboard.append([username, score])\n",
    "    except Exception as e:\n",
    "        print(\"Skipping row due to error:\", e)"
   ],
   "metadata": {
    "collapsed": false,
    "ExecuteTime": {
     "end_time": "2025-03-16T16:18:34.346547600Z",
     "start_time": "2025-03-16T16:18:33.828626400Z"
    }
   },
   "id": "be06e444de217dc0",
   "execution_count": 19
  },
  {
   "cell_type": "code",
   "outputs": [
    {
     "name": "stdout",
     "output_type": "stream",
     "text": [
      "Extracted Data: [['vishalyadav26091', '100.00'], ['amitkarun4559', '100.00'], ['h1032210585', '100.00'], ['poojaprajapati23', '50.00'], ['TanmayAI', '50.00'], ['aakashmourya65', '50.00'], ['Aminashaikh0050', '50.00'], ['kunalrawal78', '50.00'], ['kwagh60', '50.00'], ['saakansha645', '50.00'], ['h1032210475', '0.00'], ['wassupnigggaa', '0.00'], ['atharvmore30', '0.00'], ['anushkarao03', '0.00'], ['Ravi02', '0.00'], ['sharmashruti8903', '0.00'], ['aditya_bolke2020', '0.00'], ['abhishekyadav03', '0.00'], ['aryangaur380', '0.00']]\n"
     ]
    }
   ],
   "source": [
    "\n",
    "print(\"Extracted Data:\", leaderboard)"
   ],
   "metadata": {
    "collapsed": false,
    "ExecuteTime": {
     "end_time": "2025-03-16T16:18:37.070364Z",
     "start_time": "2025-03-16T16:18:37.058052600Z"
    }
   },
   "id": "5889ef2193ce649a",
   "execution_count": 20
  },
  {
   "cell_type": "code",
   "outputs": [
    {
     "name": "stdout",
     "output_type": "stream",
     "text": [
      "Data saved successfully to hackerrank_leaderboard4.csv\n"
     ]
    }
   ],
   "source": [
    "csv_filename = \"hackerrank_leaderboard4.csv\"\n",
    "if leaderboard:  # Only save if data exists\n",
    "    with open(csv_filename, \"w\", newline=\"\", encoding=\"utf-8\") as file:\n",
    "        writer = csv.writer(file)\n",
    "        writer.writerow([\"HackerRank ID\", \"Score\"])\n",
    "        writer.writerows(leaderboard)\n",
    "\n",
    "    print(f\"Data saved successfully to {csv_filename}\")\n",
    "else:\n",
    "    print(\"No data extracted! Check element selectors.\")"
   ],
   "metadata": {
    "collapsed": false,
    "ExecuteTime": {
     "end_time": "2025-03-16T16:18:45.682940400Z",
     "start_time": "2025-03-16T16:18:45.669820700Z"
    }
   },
   "id": "802ce531dfcb25df",
   "execution_count": 21
  },
  {
   "cell_type": "code",
   "outputs": [],
   "source": [],
   "metadata": {
    "collapsed": false
   },
   "id": "df79755291748184"
  }
 ],
 "metadata": {
  "kernelspec": {
   "display_name": "Python 3",
   "language": "python",
   "name": "python3"
  },
  "language_info": {
   "codemirror_mode": {
    "name": "ipython",
    "version": 2
   },
   "file_extension": ".py",
   "mimetype": "text/x-python",
   "name": "python",
   "nbconvert_exporter": "python",
   "pygments_lexer": "ipython2",
   "version": "2.7.6"
  }
 },
 "nbformat": 4,
 "nbformat_minor": 5
}
