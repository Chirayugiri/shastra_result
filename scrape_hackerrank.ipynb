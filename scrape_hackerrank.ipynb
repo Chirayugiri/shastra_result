{
 "cells": [
  {
   "cell_type": "code",
   "execution_count": 48,
   "id": "initial_id",
   "metadata": {
    "collapsed": true,
    "ExecuteTime": {
     "end_time": "2025-01-30T10:14:01.366660100Z",
     "start_time": "2025-01-30T10:14:01.362582400Z"
    }
   },
   "outputs": [],
   "source": [
    "import csv\n",
    "from selenium import webdriver\n",
    "from selenium.webdriver.common.by import By\n",
    "from selenium.webdriver.chrome.options import Options\n",
    "from selenium.webdriver.support.ui import WebDriverWait\n",
    "from selenium.webdriver.support import expected_conditions as EC"
   ]
  },
  {
   "cell_type": "code",
   "outputs": [],
   "source": [
    "# Configure Chrome options\n",
    "options = Options()\n",
    "options.add_argument(\"--start-maximized\")\n",
    "options.add_experimental_option(\"detach\", True)  # Prevents auto-close"
   ],
   "metadata": {
    "collapsed": false,
    "ExecuteTime": {
     "end_time": "2025-01-30T10:14:03.111077600Z",
     "start_time": "2025-01-30T10:14:03.108068700Z"
    }
   },
   "id": "66eebff73b3fd71",
   "execution_count": 49
  },
  {
   "cell_type": "code",
   "outputs": [],
   "source": [
    "# Start Selenium\n",
    "driver = webdriver.Chrome(options=options)\n",
    "driver.get(\"https://www.hackerrank.com/contests/tcet-shastra-coding-contest-9-a/leaderboard\")"
   ],
   "metadata": {
    "collapsed": false,
    "ExecuteTime": {
     "end_time": "2025-01-30T10:14:07.165065100Z",
     "start_time": "2025-01-30T10:14:04.669450100Z"
    }
   },
   "id": "4fc380dc0fb56d33",
   "execution_count": 50
  },
  {
   "cell_type": "code",
   "outputs": [],
   "source": [
    "# Wait for leaderboard to load\n",
    "wait = WebDriverWait(driver, 10)\n",
    "rows = wait.until(EC.presence_of_all_elements_located((By.CSS_SELECTOR, \".leaderboard-list-view .row\")))"
   ],
   "metadata": {
    "collapsed": false,
    "ExecuteTime": {
     "end_time": "2025-01-30T10:15:35.834054100Z",
     "start_time": "2025-01-30T10:15:35.807685600Z"
    }
   },
   "id": "ec1001cd825e225e",
   "execution_count": 58
  },
  {
   "cell_type": "code",
   "outputs": [],
   "source": [
    "leaderboard = []\n",
    "for row in rows:\n",
    "    try:\n",
    "        username_element = row.find_element(By.CSS_SELECTOR, \".span-flex-4 a\")  # Updated selector\n",
    "        score_element = row.find_element(By.CSS_SELECTOR, \".span-flex-3\")  # Score selector\n",
    "\n",
    "        username = username_element.text.strip()\n",
    "        score = score_element.text.strip()\n",
    "\n",
    "        leaderboard.append([username, score])\n",
    "    except Exception as e:\n",
    "        print(\"Skipping row due to error:\", e)"
   ],
   "metadata": {
    "collapsed": false,
    "ExecuteTime": {
     "end_time": "2025-01-30T10:15:41.912546600Z",
     "start_time": "2025-01-30T10:15:38.842090600Z"
    }
   },
   "id": "be06e444de217dc0",
   "execution_count": 59
  },
  {
   "cell_type": "code",
   "outputs": [
    {
     "name": "stdout",
     "output_type": "stream",
     "text": [
      "Extracted Data: [['pandeyadi120', '141.67'], ['aadarshpandey931', '141.67'], ['pranaytiwariprpk', '141.67'], ['laxmimehta0506', '141.67'], ['harshpal0050', '141.67'], ['arshiyak572', '141.67'], ['ruchishree244', '141.67'], ['shivanshu121004', '141.67'], ['h1032220299', '141.67'], ['sanika_wani', '141.67'], ['utsavsingh2826', '141.67'], ['darekarisha13', '133.33'], ['Sanika2112', '133.33'], ['h1032231317', '133.33'], ['tanmoy2005barua', '133.33'], ['h1032220062', '133.33'], ['hrichamehra11', '133.33'], ['nishantsahu435', '133.33'], ['codedemon1426', '133.33'], ['h1032231274', '133.33'], ['kadamaryan21418', '133.33'], ['vnandini1530', '133.33'], ['akshitha_ssays', '133.33'], ['snehakumari2323', '133.33'], ['a_redij04', '133.33'], ['ravislprajapati', '133.33'], ['h1032221629', '133.33'], ['pankajchaudhar15', '133.33'], ['h1032221506', '133.33'], ['samadshaikh22005', '133.33'], ['vigneshalle16', '133.33'], ['khushidoshi1978', '133.33'], ['sohampatil1807', '133.33'], ['h1032220220', '133.33'], ['pranalipahurkar', '133.33'], ['revatikirdat2', '133.33'], ['himanshujangid22', '133.33'], ['rugvedkatkade66', '133.33'], ['h1032220176', '133.33'], ['h1032221701', '133.33'], ['h1032221515', '133.33'], ['shuklaram2315', '133.33'], ['jheelj86', '133.33'], ['yashd1soni', '133.33'], ['goswamyashutosh9', '133.33'], ['h1032220289', '133.33'], ['h1032220278', '133.33'], ['shubhamvirani33', '133.33'], ['varerkarmadhura', '133.33'], ['tanisabelel', '133.33'], ['imharsh1910', '133.33'], ['unborntadpole', '133.33'], ['h1032220371', '133.33'], ['abhig3340', '133.33'], ['chirayugiri149', '133.33'], ['yrawal2004', '133.33'], ['divyakesarkar201', '133.33'], ['suman197960', '108.33'], ['purvaambekar19', '108.33'], ['h1032231248', '100.00'], ['h1032221714', '100.00'], ['maurya_anjali061', '100.00'], ['ansh_shetty_22', '100.00'], ['ag9867603762', '100.00'], ['yadavsachin6001', '100.00'], ['amanpandey200521', '100.00'], ['ng873042', '100.00'], ['rohitsonar632', '100.00'], ['h1032220720', '100.00'], ['h1032220870', '100.00'], ['codedot', '100.00'], ['h1032220319', '100.00'], ['ayushchaudhary71', '100.00'], ['snehstorage', '100.00'], ['h1032220866', '100.00'], ['syedtahami123', '100.00'], ['oms989069', '100.00'], ['h1032221641', '100.00'], ['h1032220430', '100.00'], ['amanpandey9295', '91.67'], ['vivekbhandari101', '91.67'], ['siddhikubal30', '91.67'], ['swathiharish2349', '91.67'], ['vinayakdasari201', '91.67'], ['smeetadeshra', '83.33'], ['vishwakarmakara2', '83.33'], ['ayushaj14', '83.33'], ['aditipandey30101', '50.00'], ['h1032221378', '50.00'], ['veerchauhan6161', '50.00'], ['devanshudandeka1', '50.00'], ['devanshtrivedi21', '50.00'], ['hkailkhuri', '50.00'], ['h1032221007', '0.00'], ['tejasvikhairnar', '0.00'], ['adhvaynariya505', '0.00'], ['bhavikasingh1004', '0.00']]\n"
     ]
    }
   ],
   "source": [
    "\n",
    "print(\"Extracted Data:\", leaderboard)"
   ],
   "metadata": {
    "collapsed": false,
    "ExecuteTime": {
     "end_time": "2025-01-30T10:15:43.765400Z",
     "start_time": "2025-01-30T10:15:43.761882Z"
    }
   },
   "id": "5889ef2193ce649a",
   "execution_count": 60
  },
  {
   "cell_type": "code",
   "outputs": [
    {
     "name": "stdout",
     "output_type": "stream",
     "text": [
      "✅ Data saved successfully to hackerrank_leaderboard4.csv\n"
     ]
    }
   ],
   "source": [
    "csv_filename = \"hackerrank_leaderboard4.csv\"\n",
    "if leaderboard:  # Only save if data exists\n",
    "    with open(csv_filename, \"w\", newline=\"\", encoding=\"utf-8\") as file:\n",
    "        writer = csv.writer(file)\n",
    "        writer.writerow([\"HackerRank ID\", \"Score\"])\n",
    "        writer.writerows(leaderboard)\n",
    "\n",
    "    print(f\"Data saved successfully to {csv_filename}\")\n",
    "else:\n",
    "    print(\"No data extracted! Check element selectors.\")"
   ],
   "metadata": {
    "collapsed": false,
    "ExecuteTime": {
     "end_time": "2025-01-30T10:15:56.314940300Z",
     "start_time": "2025-01-30T10:15:56.308667600Z"
    }
   },
   "id": "802ce531dfcb25df",
   "execution_count": 62
  },
  {
   "cell_type": "code",
   "outputs": [],
   "source": [],
   "metadata": {
    "collapsed": false
   },
   "id": "df79755291748184"
  }
 ],
 "metadata": {
  "kernelspec": {
   "display_name": "Python 3",
   "language": "python",
   "name": "python3"
  },
  "language_info": {
   "codemirror_mode": {
    "name": "ipython",
    "version": 2
   },
   "file_extension": ".py",
   "mimetype": "text/x-python",
   "name": "python",
   "nbconvert_exporter": "python",
   "pygments_lexer": "ipython2",
   "version": "2.7.6"
  }
 },
 "nbformat": 4,
 "nbformat_minor": 5
}
