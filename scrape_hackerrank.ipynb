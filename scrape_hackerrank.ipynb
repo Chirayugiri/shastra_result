{
 "cells": [
  {
   "cell_type": "code",
   "execution_count": 3,
   "id": "initial_id",
   "metadata": {
    "collapsed": true,
    "ExecuteTime": {
     "end_time": "2025-03-19T08:24:20.338781600Z",
     "start_time": "2025-03-19T08:24:20.310373700Z"
    }
   },
   "outputs": [],
   "source": [
    "import csv\n",
    "from selenium import webdriver\n",
    "from selenium.webdriver.common.by import By\n",
    "from selenium.webdriver.chrome.options import Options\n",
    "from selenium.webdriver.support.ui import WebDriverWait\n",
    "from selenium.webdriver.support import expected_conditions as EC"
   ]
  },
  {
   "cell_type": "code",
   "outputs": [],
   "source": [
    "# Configure Chrome options\n",
    "options = Options()\n",
    "options.add_argument(\"--start-maximized\")\n",
    "options.add_experimental_option(\"detach\", True)  # Prevents auto-close"
   ],
   "metadata": {
    "collapsed": false,
    "ExecuteTime": {
     "end_time": "2025-03-19T08:24:20.971794600Z",
     "start_time": "2025-03-19T08:24:20.965771Z"
    }
   },
   "id": "66eebff73b3fd71",
   "execution_count": 4
  },
  {
   "cell_type": "code",
   "outputs": [],
   "source": [
    "# Start Selenium\n",
    "driver = webdriver.Chrome(options=options)\n",
    "driver.get(\"https://www.hackerrank.com/contests/tcet-shastra-coding-contest-13-a/leaderboard\")"
   ],
   "metadata": {
    "collapsed": false,
    "ExecuteTime": {
     "end_time": "2025-03-19T08:24:28.971312600Z",
     "start_time": "2025-03-19T08:24:22.581904600Z"
    }
   },
   "id": "4fc380dc0fb56d33",
   "execution_count": 5
  },
  {
   "cell_type": "code",
   "outputs": [],
   "source": [
    "# Wait for leaderboard to load\n",
    "wait = WebDriverWait(driver, 10)\n",
    "rows = wait.until(EC.presence_of_all_elements_located((By.CSS_SELECTOR, \".leaderboard-list-view .row\")))"
   ],
   "metadata": {
    "collapsed": false,
    "ExecuteTime": {
     "end_time": "2025-03-19T08:29:35.271908Z",
     "start_time": "2025-03-19T08:29:35.257595900Z"
    }
   },
   "id": "ec1001cd825e225e",
   "execution_count": 25
  },
  {
   "cell_type": "code",
   "outputs": [],
   "source": [
    "leaderboard = []\n",
    "for row in rows:\n",
    "    try:\n",
    "        username_element = row.find_element(By.CSS_SELECTOR, \".span-flex-4 a\")  # Updated selector\n",
    "        score_element = row.find_element(By.CSS_SELECTOR, \".span-flex-3\")  # Score selector\n",
    "\n",
    "        username = username_element.text.strip()\n",
    "        score = score_element.text.strip()\n",
    "\n",
    "        leaderboard.append([username, score])\n",
    "    except Exception as e:\n",
    "        print(\"Skipping row due to error:\", e)"
   ],
   "metadata": {
    "collapsed": false,
    "ExecuteTime": {
     "end_time": "2025-03-19T08:29:38.138399500Z",
     "start_time": "2025-03-19T08:29:35.875050Z"
    }
   },
   "id": "be06e444de217dc0",
   "execution_count": 26
  },
  {
   "cell_type": "code",
   "outputs": [
    {
     "name": "stdout",
     "output_type": "stream",
     "text": [
      "Extracted Data: [['kmridularajesh', '50.00'], ['anushkambtech', '50.00'], ['h1032220736', '50.00'], ['h1032221771', '50.00'], ['hrichamehra11', '50.00'], ['singhkashish1421', '50.00'], ['dny9136833946', '50.00'], ['nit_mishra3', '50.00'], ['prashant_ps9833', '50.00'], ['h1032220703', '50.00'], ['h1032231332', '50.00'], ['maurya_anjali061', '50.00'], ['onkar2004ghevade', '50.00'], ['h1032221662', '50.00'], ['tejasvikhairnar', '50.00'], ['himanshujangid22', '50.00'], ['ansh_shetty_22', '50.00'], ['vasuverma063', '50.00'], ['mishranirajk121', '50.00'], ['abhijeetjha913', '50.00'], ['h1032220648', '50.00'], ['swathiharish2349', '50.00'], ['supersaiyanaryan', '50.00'], ['adarshvijaysing1', '50.00'], ['shivamsati391', '50.00'], ['nayakmanasvi16', '50.00'], ['kartikmaurya18', '50.00'], ['nishantsahu435', '50.00'], ['aayush09204', '50.00'], ['h1032220403', '50.00'], ['Sanika2112', '50.00'], ['dimplechoudhary7', '50.00'], ['h1032220866', '50.00'], ['jahaanvvi12', '50.00'], ['harshm8540', '50.00'], ['singhayesha2109', '50.00'], ['h1032220179', '50.00'], ['navinbohara5', '50.00'], ['26uday09', '50.00'], ['prachisankhe1010', '50.00'], ['akshitha_ssays', '50.00'], ['aditipandey30101', '50.00'], ['rahulgeorge1212', '50.00'], ['siddhibsawant221', '50.00'], ['abhig3340', '50.00'], ['h1032221420', '50.00'], ['tanishkini', '50.00'], ['shruthika2720', '50.00'], ['h1032221542', '50.00'], ['chauhanvarun10t1', '50.00'], ['gauravr6012', '50.00'], ['h1032221714', '50.00'], ['kerissapatel', '50.00'], ['h1032220347', '50.00'], ['parmesh214', '50.00'], ['2bhaveshk', '50.00'], ['h1032221641', '50.00'], ['shreyashgode77', '50.00'], ['diyabinoymanape1', '50.00'], ['shubhamgupta3009', '50.00'], ['mukeshkadali90', '50.00'], ['cjain1725', '50.00'], ['baniyasheetal36', '50.00'], ['08vijay09', '50.00'], ['h1032221000', '50.00'], ['riddhijoshi5900', '50.00'], ['nishashetty1002', '50.00'], ['krunalparab777', '50.00'], ['shravanirm36', '50.00'], ['rayanubhav36', '50.00'], ['sonamyadav7208', '50.00'], ['upadhyayneelpa', '50.00'], ['kadamaryan21418', '50.00'], ['prajapatishivam7', '50.00'], ['singh287686', '50.00'], ['rathodlucky12k', '50.00'], ['ag9867603762', '50.00'], ['shuklajaikishan1', '50.00'], ['surajmabbu', '50.00'], ['h1032221631', '50.00'], ['prathamsharma_i1', '50.00'], ['ranegayatri625', '50.00'], ['h1032220299', '50.00'], ['mepranavpatil', '50.00'], ['prathameshjanug1', '50.00'], ['itsanand129', '50.00'], ['mlal42239', '50.00'], ['jayyprakashhyad1', '50.00'], ['h1032221046', '50.00'], ['ajayk78932', '50.00'], ['manas_angadi', '50.00'], ['piyushdas2004', '50.00'], ['prathameshsharm2', '50.00'], ['shwetankrai0710', '50.00'], ['h1032221053', '40.00'], ['siddhikubal30', '0.00'], ['sohamdhumal06892', '0.00'], ['h1032220774', '0.00'], ['hamso2107', '0.00'], ['h1032221480', '0.00']]\n"
     ]
    }
   ],
   "source": [
    "\n",
    "print(\"Extracted Data:\", leaderboard)"
   ],
   "metadata": {
    "collapsed": false,
    "ExecuteTime": {
     "end_time": "2025-03-19T08:29:38.915769300Z",
     "start_time": "2025-03-19T08:29:38.909727Z"
    }
   },
   "id": "5889ef2193ce649a",
   "execution_count": 27
  },
  {
   "cell_type": "code",
   "outputs": [
    {
     "name": "stdout",
     "output_type": "stream",
     "text": [
      "Data saved successfully to hackerrank_leaderboard__5.csv\n"
     ]
    }
   ],
   "source": [
    "csv_filename = \"hackerrank_leaderboard__5.csv\"\n",
    "if leaderboard:  # Only save if data exists\n",
    "    with open(csv_filename, \"w\", newline=\"\", encoding=\"utf-8\") as file:\n",
    "        writer = csv.writer(file)\n",
    "        writer.writerow([\"HackerRank ID\", \"Score\"])\n",
    "        writer.writerows(leaderboard)\n",
    "\n",
    "    print(f\"Data saved successfully to {csv_filename}\")\n",
    "else:\n",
    "    print(\"No data extracted! Check element selectors.\")"
   ],
   "metadata": {
    "collapsed": false,
    "ExecuteTime": {
     "end_time": "2025-03-19T08:29:43.124357200Z",
     "start_time": "2025-03-19T08:29:43.117937700Z"
    }
   },
   "id": "802ce531dfcb25df",
   "execution_count": 28
  },
  {
   "cell_type": "code",
   "outputs": [],
   "source": [],
   "metadata": {
    "collapsed": false
   },
   "id": "df79755291748184"
  }
 ],
 "metadata": {
  "kernelspec": {
   "display_name": "Python 3",
   "language": "python",
   "name": "python3"
  },
  "language_info": {
   "codemirror_mode": {
    "name": "ipython",
    "version": 2
   },
   "file_extension": ".py",
   "mimetype": "text/x-python",
   "name": "python",
   "nbconvert_exporter": "python",
   "pygments_lexer": "ipython2",
   "version": "2.7.6"
  }
 },
 "nbformat": 4,
 "nbformat_minor": 5
}
